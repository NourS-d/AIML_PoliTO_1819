{
  "nbformat": 4,
  "nbformat_minor": 0,
  "metadata": {
    "colab": {
      "name": "Homework_DeepLearning.ipynb",
      "version": "0.3.2",
      "provenance": [],
      "collapsed_sections": [
        "qpuCjhmBqR8I",
        "Oc0xxotc4nrO",
        "8ygWgaZ9ACEa",
        "p6o_jwCLgP0i",
        "fyGaPkPI091A"
      ]
    },
    "kernelspec": {
      "name": "python3",
      "display_name": "Python 3"
    },
    "accelerator": "GPU"
  },
  "cells": [
    {
      "metadata": {
        "id": "iAPl-9kU0ZGR",
        "colab_type": "code",
        "colab": {}
      },
      "cell_type": "code",
      "source": [
        "!pip3 install -q http://download.pytorch.org/whl/cu90/torch-0.4.0-cp36-cp36m-linux_x86_64.whl\n",
        "!pip3 install torchvision"
      ],
      "execution_count": 0,
      "outputs": []
    },
    {
      "metadata": {
        "id": "pFNVt2EKnaq6",
        "colab_type": "text"
      },
      "cell_type": "markdown",
      "source": [
        "**Library import**"
      ]
    },
    {
      "metadata": {
        "id": "9e4_Nnz-oKbB",
        "colab_type": "code",
        "colab": {}
      },
      "cell_type": "code",
      "source": [
        "%matplotlib inline\n",
        "import torch\n",
        "import torchvision\n",
        "from torchvision import models\n",
        "import torchvision.transforms as transforms\n",
        "from torchvision.transforms import ToPILImage\n",
        "import torch.optim as optim\n",
        "from IPython.display import Javascript\n",
        "\n",
        "import torch.nn as nn\n",
        "import torch.nn.functional as F\n",
        "\n",
        "import matplotlib.pyplot as plt\n",
        "\n",
        "import numpy as np"
      ],
      "execution_count": 0,
      "outputs": []
    },
    {
      "metadata": {
        "id": "vWF01V81oake",
        "colab_type": "text"
      },
      "cell_type": "markdown",
      "source": [
        "**Definition of functions for dispay**"
      ]
    },
    {
      "metadata": {
        "id": "BH_FxK0zokOp",
        "colab_type": "code",
        "colab": {}
      },
      "cell_type": "code",
      "source": [
        "# function to show an image\n",
        "def imshow(img):\n",
        "    img = img / 2 + 0.5     # unnormalize\n",
        "    npimg = img.numpy()\n",
        "    plt.imshow(np.transpose(npimg, (1, 2, 0)))\n",
        "    plt.show()\n",
        "    \n",
        "def plot_kernel(model):\n",
        "    model_weights = model.state_dict()\n",
        "    fig = plt.figure()\n",
        "    plt.figure(figsize=(10,10))\n",
        "    for idx, filt  in enumerate(model_weights['conv1.weight']):\n",
        "    #print(filt[0, :, :])\n",
        "        if idx >= 32: continue\n",
        "        plt.subplot(4,8, idx + 1)\n",
        "        plt.imshow(filt[0, :, :], cmap=\"gray\")\n",
        "        plt.axis('off')\n",
        "    \n",
        "    plt.show()\n",
        "\n",
        "def plot_kernel_output(model,images):\n",
        "    fig1 = plt.figure()\n",
        "    plt.figure(figsize=(1,1))\n",
        "    \n",
        "    img_normalized = (images[0] - images[0].min()) / (images[0].max() - images[0].min())\n",
        "    plt.imshow(img_normalized.numpy().transpose(1,2,0))\n",
        "    plt.show()\n",
        "    output = model.conv1(images)\n",
        "    layer_1 = output[0, :, :, :]\n",
        "    layer_1 = layer_1.data\n",
        "\n",
        "    fig = plt.figure()\n",
        "    plt.figure(figsize=(10,10))\n",
        "    for idx, filt  in enumerate(layer_1):\n",
        "        if idx >= 32: continue\n",
        "        plt.subplot(4,8, idx + 1)\n",
        "        plt.imshow(filt, cmap=\"gray\")\n",
        "        plt.axis('off')\n",
        "    plt.show() "
      ],
      "execution_count": 0,
      "outputs": []
    },
    {
      "metadata": {
        "id": "WxN1SgGto3fM",
        "colab_type": "text"
      },
      "cell_type": "markdown",
      "source": [
        "**Test Accuracy Function**"
      ]
    },
    {
      "metadata": {
        "id": "nV3885PIo78w",
        "colab_type": "code",
        "colab": {}
      },
      "cell_type": "code",
      "source": [
        "def test_accuracy(net, dataloader):\n",
        "  \n",
        "    #check accuracy on whole test set\n",
        "    correct = 0\n",
        "    total = 0\n",
        "    net.eval() #important for deactivating dropout and correctly use batchnorm accumulated statistics\n",
        "    with torch.no_grad():\n",
        "        for data in dataloader:\n",
        "            images, labels = data\n",
        "            images = images.cuda()\n",
        "            labels = labels.cuda()\n",
        "            outputs = net(images)\n",
        "            _, predicted = torch.max(outputs.data, 1)\n",
        "            total += labels.size(0)\n",
        "            correct += (predicted == labels).sum().item()\n",
        "    accuracy = 100 * correct / total\n",
        "    print('Accuracy of the network on the test set: %d %%' % (\n",
        "    accuracy))\n",
        "    return accuracy"
      ],
      "execution_count": 0,
      "outputs": []
    },
    {
      "metadata": {
        "id": "y_N6uti-qCYz",
        "colab_type": "text"
      },
      "cell_type": "markdown",
      "source": [
        "**Number of Classes**\n",
        "\n",
        "\n",
        "Since we are using the CIFAR 100, the number of classes in 100"
      ]
    },
    {
      "metadata": {
        "id": "iSHyQ-ikqLIi",
        "colab_type": "code",
        "colab": {}
      },
      "cell_type": "code",
      "source": [
        "n_classes = 100 "
      ],
      "execution_count": 0,
      "outputs": []
    },
    {
      "metadata": {
        "id": "qpuCjhmBqR8I",
        "colab_type": "text"
      },
      "cell_type": "markdown",
      "source": [
        "# Traditional Neural Network\n",
        "\n",
        "In this section we are going to train a **multilayer perceptron network. **\n",
        "\n",
        "\n",
        "To begin we define the class for the network. It consists of two hidden layers and a last FC layer network of 100 classes. \n"
      ]
    },
    {
      "metadata": {
        "id": "0baK4zB_2uZz",
        "colab_type": "code",
        "colab": {}
      },
      "cell_type": "code",
      "source": [
        "# function to define an old style fully connected network (multilayer perceptrons)\n",
        "class old_nn(nn.Module):\n",
        "    def __init__(self):\n",
        "        super(old_nn, self).__init__()\n",
        "        self.fc1 = nn.Linear(32*32*3, 4096)\n",
        "        self.fc2 = nn.Linear(4096, 4096)\n",
        "        self.fc3 = nn.Linear(4096, n_classes) #last FC for classification \n",
        "\n",
        "    def forward(self, x):\n",
        "        x = x.view(x.shape[0], -1)\n",
        "        x = F.sigmoid(self.fc1(x))\n",
        "        x = F.sigmoid(self.fc2(x))\n",
        "        x = self.fc3(x)\n",
        "        return x"
      ],
      "execution_count": 0,
      "outputs": []
    },
    {
      "metadata": {
        "id": "jx42a2kPuufq",
        "colab_type": "text"
      },
      "cell_type": "markdown",
      "source": [
        "The first part of the code is related to loading the data and providing training and testing sets. It deals with all the resizingm transformations, data augmentation... Here we don't use data augmentation techniques.\n"
      ]
    },
    {
      "metadata": {
        "id": "KSbd6HyXrxy5",
        "colab_type": "code",
        "colab": {}
      },
      "cell_type": "code",
      "source": [
        "#transform are heavily used to do simple and complex transformation and data augmentation\n",
        "transform_train = transforms.Compose(\n",
        "    [\n",
        "     #transforms.RandomHorizontalFlip(),\n",
        "     transforms.Resize((32,32)),\n",
        "     transforms.ToTensor(),\n",
        "     transforms.Normalize((0.5, 0.5, 0.5), (0.5, 0.5, 0.5)),\n",
        "    ])\n",
        "\n",
        "transform_test = transforms.Compose(\n",
        "    [\n",
        "     transforms.Resize((32,32)),\n",
        "     transforms.ToTensor(),\n",
        "     transforms.Normalize((0.5, 0.5, 0.5), (0.5, 0.5, 0.5)),\n",
        "     ])\n",
        "\n",
        "trainset = torchvision.datasets.CIFAR100(root='./data', train=True,\n",
        "                                        download=True, transform=transform_train)\n",
        "trainloader = torch.utils.data.DataLoader(trainset, batch_size=256,\n",
        "                                          shuffle=True, num_workers=4,drop_last=True)\n",
        "\n",
        "testset = torchvision.datasets.CIFAR100(root='./data', train=False,\n",
        "                                       download=True, transform=transform_test)\n",
        "testloader = torch.utils.data.DataLoader(testset, batch_size=256,\n",
        "                                         shuffle=False, num_workers=4,drop_last=True)\n",
        "\n",
        "dataiter = iter(trainloader)"
      ],
      "execution_count": 0,
      "outputs": []
    },
    {
      "metadata": {
        "id": "LHTun2Sjzf9H",
        "colab_type": "text"
      },
      "cell_type": "markdown",
      "source": [
        "Now we create an old style NN and we train"
      ]
    },
    {
      "metadata": {
        "id": "Gij6TTm9zgP7",
        "colab_type": "code",
        "colab": {}
      },
      "cell_type": "code",
      "source": [
        "net = old_nn()\n",
        "net = net.cuda()\n",
        "\n",
        "criterion = nn.CrossEntropyLoss().cuda() #it already does softmax computation for use!\n",
        "optimizer = optim.Adam(net.parameters(), lr=0.0001) #better convergency w.r.t simple SGD :)\n",
        "\n",
        "########TRAINING PHASE###########\n",
        "n_loss_print = len(trainloader)  #print every epoch, use smaller numbers if you wanna print loss more often!\n",
        "\n",
        "n_epochs = 20\n",
        "\n",
        "lossPlot=[]\n",
        "accPlot=[]\n",
        "\n",
        "for epoch in range(n_epochs):  # loop over the dataset multiple times\n",
        "    net.train() #important for activating dropout and correctly train batchnorm\n",
        "    running_loss = 0.0\n",
        "    for i, data in enumerate(trainloader, 0):\n",
        "        # get the inputs and cast them into cuda wrapper\n",
        "        inputs, labels = data\n",
        "        inputs = inputs.cuda()\n",
        "        labels = labels.cuda()\n",
        "        # zero the parameter gradients\n",
        "        optimizer.zero_grad()\n",
        "\n",
        "        # forward + backward + optimize\n",
        "        outputs = net(inputs)\n",
        "        loss = criterion(outputs, labels)\n",
        "        loss.backward()\n",
        "        optimizer.step()\n",
        "\n",
        "        # print statistics\n",
        "        running_loss += loss.item()\n",
        "        if i % n_loss_print == (n_loss_print -1):    \n",
        "            temp=running_loss / n_loss_print\n",
        "            print('[%d, %5d] loss: %.3f' %\n",
        "                  (epoch + 1, i + 1, temp))\n",
        "            lossPlot.append(temp)\n",
        "            running_loss = 0.0\n",
        "    accPlot.append(test_accuracy(net,testloader))\n",
        "      \n",
        "print('Finished Training')\n"
      ],
      "execution_count": 0,
      "outputs": []
    },
    {
      "metadata": {
        "id": "Lcv7sGoa1wTS",
        "colab_type": "text"
      },
      "cell_type": "markdown",
      "source": [
        "Now we plot the Loss curve"
      ]
    },
    {
      "metadata": {
        "id": "BuWiiv8S11o7",
        "colab_type": "code",
        "outputId": "e1d012fc-bb03-43b0-c6c4-f7fe20326959",
        "colab": {
          "base_uri": "https://localhost:8080/",
          "height": 282
        }
      },
      "cell_type": "code",
      "source": [
        "plt.plot(range(1,len(lossPlot)+1),lossPlot)\n",
        "plt.show"
      ],
      "execution_count": 0,
      "outputs": [
        {
          "output_type": "execute_result",
          "data": {
            "text/plain": [
              "<function matplotlib.pyplot.show>"
            ]
          },
          "metadata": {
            "tags": []
          },
          "execution_count": 12
        },
        {
          "output_type": "display_data",
          "data": {
            "image/png": "[encoded data removed]",
            "text/plain": [
              "<matplotlib.figure.Figure at 0x7efcc4664f98>"
            ]
          },
          "metadata": {
            "tags": []
          }
        }
      ]
    },
    {
      "metadata": {
        "id": "3C95NwF915-d",
        "colab_type": "text"
      },
      "cell_type": "markdown",
      "source": [
        "And the accuracy curve"
      ]
    },
    {
      "metadata": {
        "id": "AusXhaEA1814",
        "colab_type": "code",
        "outputId": "d7edded3-2847-446f-8951-dfeda4414956",
        "colab": {
          "base_uri": "https://localhost:8080/",
          "height": 287
        }
      },
      "cell_type": "code",
      "source": [
        "plt.plot(range(1,len(accPlot)+1),accPlot)\n",
        "plt.show"
      ],
      "execution_count": 0,
      "outputs": [
        {
          "output_type": "execute_result",
          "data": {
            "text/plain": [
              "<function matplotlib.pyplot.show>"
            ]
          },
          "metadata": {
            "tags": []
          },
          "execution_count": 13
        },
        {
          "output_type": "display_data",
          "data": {
            "image/png": "[encoded data removed]",
            "text/plain": [
              "<matplotlib.figure.Figure at 0x7efcc44e8e80>"
            ]
          },
          "metadata": {
            "tags": []
          }
        }
      ]
    },
    {
      "metadata": {
        "id": "Ra9kg0Sq7BY2",
        "colab_type": "text"
      },
      "cell_type": "markdown",
      "source": [
        "## Comments\n",
        "\n",
        "The accuracy is low as expected. Looking deeper into the given dataset, I would like to point out some point. \n",
        "\n",
        "First of all this dataset contains images which are RGB (x3 the data) . Also, images vary alot, so the amount of feature would be huge. We would need a deeper NN."
      ]
    },
    {
      "metadata": {
        "id": "Oc0xxotc4nrO",
        "colab_type": "text"
      },
      "cell_type": "markdown",
      "source": [
        "# Convolutional Neural Networks\n",
        "\n",
        "Let us use the CNN given."
      ]
    },
    {
      "metadata": {
        "id": "Kg37JNYv5dbf",
        "colab_type": "code",
        "colab": {}
      },
      "cell_type": "code",
      "source": [
        "#function to define the convolutional network\n",
        "class CNN(nn.Module):\n",
        "    def __init__(self,s1=32,s2=32,s3=32,s4=64,o=4096):\n",
        "        super(CNN, self).__init__()\n",
        "        #conv2d first parameter is the number of kernels at input (you get it from the output value of the previous layer)\n",
        "        #conv2d second parameter is the number of kernels you wanna have in your convolution, so it will be the n. of kernels at output.\n",
        "        #conv2d third, fourth and fifth parameters are, as you can read, kernel_size, stride and zero padding :)\n",
        "        self.conv1 = nn.Conv2d(3, s1, kernel_size=5, stride=2, padding=0)\n",
        "        self.conv2 = nn.Conv2d(s1, s2, kernel_size=3, stride=1, padding=0)\n",
        "        self.conv3 = nn.Conv2d(s2, s3, kernel_size=3, stride=1, padding=0)\n",
        "        self.pool = nn.MaxPool2d(kernel_size=2, stride=2, padding=0)\n",
        "        self.conv_final = nn.Conv2d(s3, s4, kernel_size=3, stride=1, padding=0)\n",
        "        self.fc1 = nn.Linear(s4 * 4 * 4, o)\n",
        "        self.fc2 = nn.Linear(o, n_classes) #last FC for classification \n",
        "\n",
        "    def forward(self, x):\n",
        "        x = F.relu(self.conv1(x))\n",
        "        x = F.relu(self.conv2(x))\n",
        "        x = F.relu(self.conv3(x))\n",
        "        x = F.relu(self.pool(self.conv_final(x)))\n",
        "        x = x.view(x.shape[0], -1)\n",
        "        x = F.relu(self.fc1(x))\n",
        "        #hint: dropout goes here!\n",
        "        x = self.fc2(x)\n",
        "        return x\n"
      ],
      "execution_count": 0,
      "outputs": []
    },
    {
      "metadata": {
        "id": "dGG12WM75CRT",
        "colab_type": "text"
      },
      "cell_type": "markdown",
      "source": [
        "We now define the CNN"
      ]
    },
    {
      "metadata": {
        "id": "IZhavNxZBLW8",
        "colab_type": "code",
        "colab": {}
      },
      "cell_type": "code",
      "source": [
        "net = CNN()"
      ],
      "execution_count": 0,
      "outputs": []
    },
    {
      "metadata": {
        "id": "Bde6FF9-BNSI",
        "colab_type": "text"
      },
      "cell_type": "markdown",
      "source": [
        "And train"
      ]
    },
    {
      "metadata": {
        "id": "zsWiXyqJ7O1u",
        "colab_type": "code",
        "colab": {}
      },
      "cell_type": "code",
      "source": [
        "net = net.cuda()\n",
        "\n",
        "criterion = nn.CrossEntropyLoss().cuda() #it already does softmax computation for use!\n",
        "optimizer = optim.Adam(net.parameters(), lr=0.0001) #better convergency w.r.t simple SGD :)\n",
        "\n",
        "########TRAINING PHASE###########\n",
        "n_loss_print = len(trainloader)  #print every epoch, use smaller numbers if you wanna print loss more often!\n",
        "\n",
        "n_epochs = 20\n",
        "\n",
        "lossPlot=[]\n",
        "accPlot=[]\n",
        "\n",
        "for epoch in range(n_epochs):  # loop over the dataset multiple times\n",
        "    net.train() #important for activating dropout and correctly train batchnorm\n",
        "    running_loss = 0.0\n",
        "    for i, data in enumerate(trainloader, 0):\n",
        "        # get the inputs and cast them into cuda wrapper\n",
        "        inputs, labels = data\n",
        "        inputs = inputs.cuda()\n",
        "        labels = labels.cuda()\n",
        "        # zero the parameter gradients\n",
        "        optimizer.zero_grad()\n",
        "\n",
        "        # forward + backward + optimize\n",
        "        outputs = net(inputs)\n",
        "        loss = criterion(outputs, labels)\n",
        "        loss.backward()\n",
        "        optimizer.step()\n",
        "\n",
        "        # print statistics\n",
        "        running_loss += loss.item()\n",
        "        if i % n_loss_print == (n_loss_print -1):    \n",
        "            temp=running_loss / n_loss_print\n",
        "            print('[%d, %5d] loss: %.3f' %\n",
        "                  (epoch + 1, i + 1, temp))\n",
        "            lossPlot.append(temp)\n",
        "            running_loss = 0.0\n",
        "    accPlot.append(test_accuracy(net,testloader))\n",
        "      \n",
        "print('Finished Training')\n"
      ],
      "execution_count": 0,
      "outputs": []
    },
    {
      "metadata": {
        "colab_type": "text",
        "id": "hQ5zYMve7g-L"
      },
      "cell_type": "markdown",
      "source": [
        "Now we plot the Loss curve"
      ]
    },
    {
      "metadata": {
        "colab_type": "code",
        "outputId": "d74c7679-3cac-41c4-8e21-cdc72876945b",
        "id": "wDfxmCIz7g-M",
        "colab": {
          "base_uri": "https://localhost:8080/",
          "height": 282
        }
      },
      "cell_type": "code",
      "source": [
        "plt.plot(range(1,len(lossPlot)+1),lossPlot)\n",
        "plt.show"
      ],
      "execution_count": 0,
      "outputs": [
        {
          "output_type": "execute_result",
          "data": {
            "text/plain": [
              "<function matplotlib.pyplot.show>"
            ]
          },
          "metadata": {
            "tags": []
          },
          "execution_count": 37
        },
        {
          "output_type": "display_data",
          "data": {
            "image/png": "[encoded data removed]",
            "text/plain": [
              "<matplotlib.figure.Figure at 0x7efcaf4ef978>"
            ]
          },
          "metadata": {
            "tags": []
          }
        }
      ]
    },
    {
      "metadata": {
        "colab_type": "text",
        "id": "mNLTxA007g-Q"
      },
      "cell_type": "markdown",
      "source": [
        "And the accuracy curve"
      ]
    },
    {
      "metadata": {
        "colab_type": "code",
        "outputId": "fd33a331-9a34-435d-a2d3-c4369febc863",
        "id": "TWKc_cwD7g-S",
        "colab": {
          "base_uri": "https://localhost:8080/",
          "height": 284
        }
      },
      "cell_type": "code",
      "source": [
        "plt.plot(range(1,len(accPlot)+1),accPlot)\n",
        "plt.show"
      ],
      "execution_count": 0,
      "outputs": [
        {
          "output_type": "execute_result",
          "data": {
            "text/plain": [
              "<function matplotlib.pyplot.show>"
            ]
          },
          "metadata": {
            "tags": []
          },
          "execution_count": 38
        },
        {
          "output_type": "display_data",
          "data": {
            "image/png": "[encoded data removed]",
            "text/plain": [
              "<matplotlib.figure.Figure at 0x7efcaf4f9710>"
            ]
          },
          "metadata": {
            "tags": []
          }
        }
      ]
    },
    {
      "metadata": {
        "id": "I0xwjbXk9G7q",
        "colab_type": "text"
      },
      "cell_type": "markdown",
      "source": [
        "## Comments\n",
        "\n",
        "Even though the number of parameters to train required in CNN is less than that of a MLP, the accuracy is a little bit better than that of the MLP. With the high number of features it has to learn (noting that there are 100 classes), and considering the architecture of the following CNN, the accuracy, even a little bit low, could be expected\n",
        "\n"
      ]
    },
    {
      "metadata": {
        "id": "8ygWgaZ9ACEa",
        "colab_type": "text"
      },
      "cell_type": "markdown",
      "source": [
        "# More CNNs"
      ]
    },
    {
      "metadata": {
        "id": "rNIaD_46AGxZ",
        "colab_type": "text"
      },
      "cell_type": "markdown",
      "source": [
        "##128/128/128/256\n",
        "\n",
        "We change the number of convolutional filters to 128/128/128/256"
      ]
    },
    {
      "metadata": {
        "id": "QMwGVuHRBUSU",
        "colab_type": "code",
        "colab": {}
      },
      "cell_type": "code",
      "source": [
        "net=CNN(128,128,128,256)"
      ],
      "execution_count": 0,
      "outputs": []
    },
    {
      "metadata": {
        "colab_type": "text",
        "id": "LX4H_l95CE-C"
      },
      "cell_type": "markdown",
      "source": [
        "We train the network same way as we did above.\n",
        "\n",
        "We plot the Loss curve"
      ]
    },
    {
      "metadata": {
        "colab_type": "code",
        "outputId": "7e08f0aa-37dc-498d-b62a-7855c722ee4e",
        "id": "uyGCWyc8CE-F",
        "colab": {
          "base_uri": "https://localhost:8080/",
          "height": 282
        }
      },
      "cell_type": "code",
      "source": [
        "plt.plot(range(1,len(lossPlot)+1),lossPlot)\n",
        "plt.show"
      ],
      "execution_count": 0,
      "outputs": [
        {
          "output_type": "execute_result",
          "data": {
            "text/plain": [
              "<function matplotlib.pyplot.show>"
            ]
          },
          "metadata": {
            "tags": []
          },
          "execution_count": 25
        },
        {
          "output_type": "display_data",
          "data": {
            "image/png": "[encoded data removed]",
            "text/plain": [
              "<matplotlib.figure.Figure at 0x7efcc45339b0>"
            ]
          },
          "metadata": {
            "tags": []
          }
        }
      ]
    },
    {
      "metadata": {
        "id": "YjqnB6cuFa6U",
        "colab_type": "text"
      },
      "cell_type": "markdown",
      "source": [
        "."
      ]
    },
    {
      "metadata": {
        "id": "ihL0aNQIFZRq",
        "colab_type": "text"
      },
      "cell_type": "markdown",
      "source": [
        "."
      ]
    },
    {
      "metadata": {
        "id": "E5K-md5KFY_4",
        "colab_type": "text"
      },
      "cell_type": "markdown",
      "source": [
        "."
      ]
    },
    {
      "metadata": {
        "id": "4E0K-5vBF1bW",
        "colab_type": "text"
      },
      "cell_type": "markdown",
      "source": [
        "."
      ]
    },
    {
      "metadata": {
        "id": "CasBYMF0FYop",
        "colab_type": "text"
      },
      "cell_type": "markdown",
      "source": [
        "."
      ]
    },
    {
      "metadata": {
        "colab_type": "text",
        "id": "8BFh2xcRCE-J"
      },
      "cell_type": "markdown",
      "source": [
        "And the accuracy curve"
      ]
    },
    {
      "metadata": {
        "colab_type": "code",
        "outputId": "361ae57f-25ef-4b55-ff0a-90adff161ebb",
        "id": "J1dA3amACE-J",
        "colab": {
          "base_uri": "https://localhost:8080/",
          "height": 282
        }
      },
      "cell_type": "code",
      "source": [
        "plt.plot(range(1,len(accPlot)+1),accPlot)\n",
        "plt.show"
      ],
      "execution_count": 0,
      "outputs": [
        {
          "output_type": "execute_result",
          "data": {
            "text/plain": [
              "<function matplotlib.pyplot.show>"
            ]
          },
          "metadata": {
            "tags": []
          },
          "execution_count": 26
        },
        {
          "output_type": "display_data",
          "data": {
            "image/png": "[encoded data removed]",
            "text/plain": [
              "<matplotlib.figure.Figure at 0x7efcc3b10860>"
            ]
          },
          "metadata": {
            "tags": []
          }
        }
      ]
    },
    {
      "metadata": {
        "id": "IARKMFP3Fqyw",
        "colab_type": "text"
      },
      "cell_type": "markdown",
      "source": [
        "**The time required here was 386.719 s**"
      ]
    },
    {
      "metadata": {
        "colab_type": "text",
        "id": "91ArYjnxFrjG"
      },
      "cell_type": "markdown",
      "source": [
        "##256/256/256/512\n",
        "\n",
        "We change the number of convolutional filters to 256/256/256/512\n"
      ]
    },
    {
      "metadata": {
        "colab_type": "code",
        "id": "TQEs33ZvFrjH",
        "colab": {}
      },
      "cell_type": "code",
      "source": [
        "net=CNN(256,256,256,512)"
      ],
      "execution_count": 0,
      "outputs": []
    },
    {
      "metadata": {
        "colab_type": "text",
        "id": "sMvypdxhFrjK"
      },
      "cell_type": "markdown",
      "source": [
        "We train the network same way as we did above.\n",
        "\n",
        "We plot the Loss curve"
      ]
    },
    {
      "metadata": {
        "colab_type": "code",
        "outputId": "5dc746fc-e0c4-4948-bf94-acaf85876e9f",
        "id": "8Fujop9LFrjK",
        "colab": {
          "base_uri": "https://localhost:8080/",
          "height": 282
        }
      },
      "cell_type": "code",
      "source": [
        "plt.plot(range(1,len(lossPlot)+1),lossPlot)\n",
        "plt.show"
      ],
      "execution_count": 0,
      "outputs": [
        {
          "output_type": "execute_result",
          "data": {
            "text/plain": [
              "<function matplotlib.pyplot.show>"
            ]
          },
          "metadata": {
            "tags": []
          },
          "execution_count": 41
        },
        {
          "output_type": "display_data",
          "data": {
            "image/png": "[encoded data removed]",
            "text/plain": [
              "<matplotlib.figure.Figure at 0x7efcaf4622b0>"
            ]
          },
          "metadata": {
            "tags": []
          }
        }
      ]
    },
    {
      "metadata": {
        "colab_type": "text",
        "id": "aCZg18NuFrjP"
      },
      "cell_type": "markdown",
      "source": [
        "And the accuracy curve"
      ]
    },
    {
      "metadata": {
        "colab_type": "code",
        "outputId": "d22e9680-c51c-4b75-91f0-8c8e92f766e6",
        "id": "aqKAKZwMFrjQ",
        "colab": {
          "base_uri": "https://localhost:8080/",
          "height": 282
        }
      },
      "cell_type": "code",
      "source": [
        "plt.plot(range(1,len(accPlot)+1),accPlot)\n",
        "plt.show"
      ],
      "execution_count": 0,
      "outputs": [
        {
          "output_type": "execute_result",
          "data": {
            "text/plain": [
              "<function matplotlib.pyplot.show>"
            ]
          },
          "metadata": {
            "tags": []
          },
          "execution_count": 42
        },
        {
          "output_type": "display_data",
          "data": {
            "image/png": "[encoded data removed]",
            "text/plain": [
              "<matplotlib.figure.Figure at 0x7efcaffbc438>"
            ]
          },
          "metadata": {
            "tags": []
          }
        }
      ]
    },
    {
      "metadata": {
        "id": "ZhfcccdNcH0_",
        "colab_type": "text"
      },
      "cell_type": "markdown",
      "source": [
        "**The time required here was 857.179 s**"
      ]
    },
    {
      "metadata": {
        "colab_type": "text",
        "id": "04JoHq-nMIoJ"
      },
      "cell_type": "markdown",
      "source": [
        "\n",
        "\n",
        "##512/512/512/1024\n",
        "\n",
        "We change the number of convolutional filters to 512/512/512/1024\n",
        "\n"
      ]
    },
    {
      "metadata": {
        "colab_type": "code",
        "id": "J11ACgacMIoK",
        "colab": {}
      },
      "cell_type": "code",
      "source": [
        "net=CNN(512,512,512,1024)"
      ],
      "execution_count": 0,
      "outputs": []
    },
    {
      "metadata": {
        "colab_type": "text",
        "id": "mQPoLtw_MIoN"
      },
      "cell_type": "markdown",
      "source": [
        "We train the network same way as we did above.\n",
        "\n",
        "We plot the Loss curve"
      ]
    },
    {
      "metadata": {
        "colab_type": "code",
        "outputId": "a7cc2cb0-3fb5-4345-a988-9650015a541e",
        "id": "tckEVtgAMIoP",
        "colab": {
          "base_uri": "https://localhost:8080/",
          "height": 284
        }
      },
      "cell_type": "code",
      "source": [
        "plt.plot(range(1,len(lossPlot)+1),lossPlot)\n",
        "plt.show"
      ],
      "execution_count": 0,
      "outputs": [
        {
          "output_type": "execute_result",
          "data": {
            "text/plain": [
              "<function matplotlib.pyplot.show>"
            ]
          },
          "metadata": {
            "tags": []
          },
          "execution_count": 45
        },
        {
          "output_type": "display_data",
          "data": {
            "image/png": "[encoded data removed]",
            "text/plain": [
              "<matplotlib.figure.Figure at 0x7efcaffb3d30>"
            ]
          },
          "metadata": {
            "tags": []
          }
        }
      ]
    },
    {
      "metadata": {
        "colab_type": "text",
        "id": "Vdy3mR1XMIoV"
      },
      "cell_type": "markdown",
      "source": [
        "And the accuracy curve"
      ]
    },
    {
      "metadata": {
        "colab_type": "code",
        "outputId": "d59397a9-9e95-472f-d92c-33dc8e3b9a68",
        "id": "BtBQCYgtMIoV",
        "colab": {
          "base_uri": "https://localhost:8080/",
          "height": 282
        }
      },
      "cell_type": "code",
      "source": [
        "plt.plot(range(1,len(accPlot)+1),accPlot)\n",
        "plt.show"
      ],
      "execution_count": 0,
      "outputs": [
        {
          "output_type": "execute_result",
          "data": {
            "text/plain": [
              "<function matplotlib.pyplot.show>"
            ]
          },
          "metadata": {
            "tags": []
          },
          "execution_count": 46
        },
        {
          "output_type": "display_data",
          "data": {
            "image/png": "[encoded data removed]",
            "text/plain": [
              "<matplotlib.figure.Figure at 0x7efcaf4b1fd0>"
            ]
          },
          "metadata": {
            "tags": []
          }
        }
      ]
    },
    {
      "metadata": {
        "id": "iVMCltCYcB8G",
        "colab_type": "text"
      },
      "cell_type": "markdown",
      "source": [
        "**The time required here was 2606.918 s**"
      ]
    },
    {
      "metadata": {
        "id": "xBfDzGYgaKJJ",
        "colab_type": "text"
      },
      "cell_type": "markdown",
      "source": [
        "## Comments\n",
        "\n",
        "We notice that at the end, the final accuracy is around 7% more than that of the starting one. But this accuracy isn't so much better than that of the previous cases and it takes more time than the previous cases (As we double the number the time required increases more than the double).\n",
        "\n",
        "\n",
        "But what is interesting is that the rate, at which the accuracy increases (loss decreases), increases with the increase in number of convolutional filters.\n",
        "\n",
        "Another thing to notice is that the value is always stuck in the 35% range. This could be solved by decreasing the learning rate. If that doesn't work, we should probably think about changing our architecture since our network isn't able to generalize on the test set.\n",
        "\n",
        "It would be good to have a validation set and seeing the loss for the validation also.\n",
        "\n",
        "\n"
      ]
    },
    {
      "metadata": {
        "id": "p6o_jwCLgP0i",
        "colab_type": "text"
      },
      "cell_type": "markdown",
      "source": [
        "# Even More CNNS"
      ]
    },
    {
      "metadata": {
        "id": "hz6kDoq1gmx_",
        "colab_type": "text"
      },
      "cell_type": "markdown",
      "source": [
        "Here we will use the network with 128/128/128/256 filters"
      ]
    },
    {
      "metadata": {
        "id": "3WO-f3__gaRS",
        "colab_type": "text"
      },
      "cell_type": "markdown",
      "source": [
        "##Batch Normalization\n"
      ]
    },
    {
      "metadata": {
        "id": "yhIwUsJ8mVKL",
        "colab_type": "text"
      },
      "cell_type": "markdown",
      "source": [
        "The CNN class is updated to take into consideration batch normalization"
      ]
    },
    {
      "metadata": {
        "id": "HUgFmZmZgxsL",
        "colab_type": "code",
        "colab": {}
      },
      "cell_type": "code",
      "source": [
        "#function to define the convolutional network with normalization and dropout\n",
        "class CNN(nn.Module):\n",
        "    def __init__(self,s1=32,s2=32,s3=32,s4=64,o=4096,BN=False,DO=False):\n",
        "        super(CNN, self).__init__()\n",
        "        #conv2d first parameter is the number of kernels at input (you get it from the output value of the previous layer)\n",
        "        #conv2d second parameter is the number of kernels you wanna have in your convolution, so it will be the n. of kernels at output.\n",
        "        #conv2d third, fourth and fifth parameters are, as you can read, kernel_size, stride and zero padding :)\n",
        "        self.conv1 = nn.Conv2d(3, s1, kernel_size=5, stride=2, padding=0)\n",
        "        self.conv1_bn = nn.BatchNorm2d(s1)\n",
        "        self.conv2 = nn.Conv2d(s1, s2, kernel_size=3, stride=1, padding=0)\n",
        "        self.conv2_bn = nn.BatchNorm2d(s2)\n",
        "        self.conv3 = nn.Conv2d(s2, s3, kernel_size=3, stride=1, padding=0)\n",
        "        self.conv3_bn = nn.BatchNorm2d(s3)\n",
        "        self.pool = nn.MaxPool2d(kernel_size=2, stride=2, padding=0)\n",
        "        self.conv_final = nn.Conv2d(s3, s4, kernel_size=3, stride=1, padding=0)\n",
        "        self.conv_final_bn = nn.BatchNorm2d(s4)\n",
        "        self.fc1 = nn.Linear(s4 * 4 * 4, o)\n",
        "        self.dropout = nn.Dropout(0.5)\n",
        "        self.fc2 = nn.Linear(o, n_classes) #last FC for classification \n",
        "        self.BN=BN\n",
        "        self.DO=DO\n",
        "    def forward(self, x):\n",
        "        if(self.BN==False):\n",
        "          x = F.relu(self.conv1(x))\n",
        "          x = F.relu(self.conv2(x))\n",
        "          x = F.relu(self.conv3(x))\n",
        "          x = F.relu(self.pool(self.conv_final(x)))\n",
        "          x = x.view(x.shape[0], -1)\n",
        "          x = F.relu(self.fc1(x))\n",
        "        else:\n",
        "          x = F.relu(self.conv1_bn(self.conv1(x)))\n",
        "          x = F.relu(self.conv2_bn(self.conv2(x)))\n",
        "          x = F.relu(self.conv3_bn(self.conv3(x)))\n",
        "          x = F.relu(self.pool(self.conv_final_bn(self.conv_final(x))))\n",
        "          x = x.view(x.shape[0], -1)\n",
        "          x = F.relu(self.fc1(x))\n",
        "        \n",
        "        #hint: dropout goes here!\n",
        "        if(self.DO):\n",
        "          x = self.dropout(x)\n",
        "          \n",
        "        x = self.fc2(x)\n",
        "        return x\n"
      ],
      "execution_count": 0,
      "outputs": []
    },
    {
      "metadata": {
        "id": "_2OQCvrYmhuu",
        "colab_type": "text"
      },
      "cell_type": "markdown",
      "source": [
        "We define the NN and we train"
      ]
    },
    {
      "metadata": {
        "id": "gOk4Fn56mfAj",
        "colab_type": "code",
        "colab": {}
      },
      "cell_type": "code",
      "source": [
        "net = CNN(128,128,128,256,4096,BN=True,DO=False)"
      ],
      "execution_count": 0,
      "outputs": []
    },
    {
      "metadata": {
        "colab_type": "text",
        "id": "9c4aXnFfowCQ"
      },
      "cell_type": "markdown",
      "source": [
        "Now we plot the Loss curve"
      ]
    },
    {
      "metadata": {
        "colab_type": "code",
        "outputId": "72f236d1-05a4-49b0-d73c-fdda112d9fce",
        "id": "fFVHS9FkowCR",
        "colab": {
          "base_uri": "https://localhost:8080/",
          "height": 282
        }
      },
      "cell_type": "code",
      "source": [
        "plt.plot(range(1,len(lossPlot)+1),lossPlot)\n",
        "plt.show"
      ],
      "execution_count": 0,
      "outputs": [
        {
          "output_type": "execute_result",
          "data": {
            "text/plain": [
              "<function matplotlib.pyplot.show>"
            ]
          },
          "metadata": {
            "tags": []
          },
          "execution_count": 55
        },
        {
          "output_type": "display_data",
          "data": {
            "image/png": "[encoded data removed]",
            "text/plain": [
              "<matplotlib.figure.Figure at 0x7efcc3a08f98>"
            ]
          },
          "metadata": {
            "tags": []
          }
        }
      ]
    },
    {
      "metadata": {
        "colab_type": "text",
        "id": "_-eTuck_owCV"
      },
      "cell_type": "markdown",
      "source": [
        "And the accuracy curve"
      ]
    },
    {
      "metadata": {
        "colab_type": "code",
        "outputId": "02178acc-36c3-4818-ca14-46e582762e3e",
        "id": "A0x8s9knowCW",
        "colab": {
          "base_uri": "https://localhost:8080/",
          "height": 282
        }
      },
      "cell_type": "code",
      "source": [
        "plt.plot(range(1,len(accPlot)+1),accPlot)\n",
        "plt.show"
      ],
      "execution_count": 0,
      "outputs": [
        {
          "output_type": "execute_result",
          "data": {
            "text/plain": [
              "<function matplotlib.pyplot.show>"
            ]
          },
          "metadata": {
            "tags": []
          },
          "execution_count": 56
        },
        {
          "output_type": "display_data",
          "data": {
            "image/png": "[encoded data removed]",
            "text/plain": [
              "<matplotlib.figure.Figure at 0x7efcc3864198>"
            ]
          },
          "metadata": {
            "tags": []
          }
        }
      ]
    },
    {
      "metadata": {
        "id": "7rZx0Mmnzm97",
        "colab_type": "text"
      },
      "cell_type": "markdown",
      "source": [
        "**This required 408.545 s  and yielded 42%**"
      ]
    },
    {
      "metadata": {
        "id": "TCQAyUeKpj3s",
        "colab_type": "text"
      },
      "cell_type": "markdown",
      "source": [
        "## BN with wider FC1\n",
        "\n",
        "\n",
        "Here we use the batch normalization but with FC1 having 8192 neurons"
      ]
    },
    {
      "metadata": {
        "id": "uTKDtSiupz3Z",
        "colab_type": "code",
        "colab": {}
      },
      "cell_type": "code",
      "source": [
        "net = CNN(128,128,128,256,8192,BN=True,DO=False)"
      ],
      "execution_count": 0,
      "outputs": []
    },
    {
      "metadata": {
        "id": "5C-qzxxxp6MQ",
        "colab_type": "text"
      },
      "cell_type": "markdown",
      "source": [
        "We train the net.\n",
        "\n",
        "\n",
        "The loss curve is:"
      ]
    },
    {
      "metadata": {
        "colab_type": "code",
        "outputId": "b66c0e75-00f9-4f27-ab58-195510e897f4",
        "id": "lUGqw2tZqB9R",
        "colab": {
          "base_uri": "https://localhost:8080/",
          "height": 282
        }
      },
      "cell_type": "code",
      "source": [
        "plt.plot(range(1,len(lossPlot)+1),lossPlot)\n",
        "plt.show"
      ],
      "execution_count": 0,
      "outputs": [
        {
          "output_type": "execute_result",
          "data": {
            "text/plain": [
              "<function matplotlib.pyplot.show>"
            ]
          },
          "metadata": {
            "tags": []
          },
          "execution_count": 59
        },
        {
          "output_type": "display_data",
          "data": {
            "image/png": "[encoded data removed]",
            "text/plain": [
              "<matplotlib.figure.Figure at 0x7efcc450a668>"
            ]
          },
          "metadata": {
            "tags": []
          }
        }
      ]
    },
    {
      "metadata": {
        "colab_type": "text",
        "id": "Ki2kwCHbqB9V"
      },
      "cell_type": "markdown",
      "source": [
        "And the accuracy curve"
      ]
    },
    {
      "metadata": {
        "colab_type": "code",
        "outputId": "6c69b945-2f95-4423-9e77-0afc1a2d7e13",
        "id": "SFhCCBBeqB9W",
        "colab": {
          "base_uri": "https://localhost:8080/",
          "height": 285
        }
      },
      "cell_type": "code",
      "source": [
        "plt.plot(range(1,len(accPlot)+1),accPlot)\n",
        "plt.show"
      ],
      "execution_count": 0,
      "outputs": [
        {
          "output_type": "execute_result",
          "data": {
            "text/plain": [
              "<function matplotlib.pyplot.show>"
            ]
          },
          "metadata": {
            "tags": []
          },
          "execution_count": 60
        },
        {
          "output_type": "display_data",
          "data": {
            "image/png": "[encoded data removed]",
            "text/plain": [
              "<matplotlib.figure.Figure at 0x7efcc4857d30>"
            ]
          },
          "metadata": {
            "tags": []
          }
        }
      ]
    },
    {
      "metadata": {
        "id": "N40G3dzwz0lH",
        "colab_type": "text"
      },
      "cell_type": "markdown",
      "source": [
        "**This required 471.075s and yielded 43% accuracy**"
      ]
    },
    {
      "metadata": {
        "id": "UjpnHG0lsgye",
        "colab_type": "text"
      },
      "cell_type": "markdown",
      "source": [
        "## BN with 0.5 DropOut on FC1 (4096)\n",
        "\n"
      ]
    },
    {
      "metadata": {
        "id": "aiFaCSW6sqBg",
        "colab_type": "text"
      },
      "cell_type": "markdown",
      "source": [
        "We now activate the dropout"
      ]
    },
    {
      "metadata": {
        "colab_type": "code",
        "id": "QKbflCJNulQF",
        "colab": {}
      },
      "cell_type": "code",
      "source": [
        "net = CNN(128,128,128,256,4096,BN=True,DO=True)"
      ],
      "execution_count": 0,
      "outputs": []
    },
    {
      "metadata": {
        "colab_type": "text",
        "id": "PBb8Rn83ulQH"
      },
      "cell_type": "markdown",
      "source": [
        "We train the net.\n",
        "\n",
        "\n",
        "The loss curve is:"
      ]
    },
    {
      "metadata": {
        "colab_type": "code",
        "outputId": "11cdf9c5-f25b-4345-c48a-305e166b1d64",
        "id": "Y1XM9AYfulQJ",
        "colab": {
          "base_uri": "https://localhost:8080/",
          "height": 282
        }
      },
      "cell_type": "code",
      "source": [
        "plt.plot(range(1,len(lossPlot)+1),lossPlot)\n",
        "plt.show"
      ],
      "execution_count": 0,
      "outputs": [
        {
          "output_type": "execute_result",
          "data": {
            "text/plain": [
              "<function matplotlib.pyplot.show>"
            ]
          },
          "metadata": {
            "tags": []
          },
          "execution_count": 66
        },
        {
          "output_type": "display_data",
          "data": {
            "image/png": "[encoded data removed]",
            "text/plain": [
              "<matplotlib.figure.Figure at 0x7efcc3909128>"
            ]
          },
          "metadata": {
            "tags": []
          }
        }
      ]
    },
    {
      "metadata": {
        "colab_type": "text",
        "id": "2eehyVlNulQN"
      },
      "cell_type": "markdown",
      "source": [
        "And the accuracy curve"
      ]
    },
    {
      "metadata": {
        "colab_type": "code",
        "outputId": "c105cf5c-9bf8-4415-e9d3-7063e8256755",
        "id": "nfCyilQhulQQ",
        "colab": {
          "base_uri": "https://localhost:8080/",
          "height": 282
        }
      },
      "cell_type": "code",
      "source": [
        "plt.plot(range(1,len(accPlot)+1),accPlot)\n",
        "plt.show"
      ],
      "execution_count": 0,
      "outputs": [
        {
          "output_type": "execute_result",
          "data": {
            "text/plain": [
              "<function matplotlib.pyplot.show>"
            ]
          },
          "metadata": {
            "tags": []
          },
          "execution_count": 65
        },
        {
          "output_type": "display_data",
          "data": {
            "image/png": "[encoded data removed]",
            "text/plain": [
              "<matplotlib.figure.Figure at 0x7efcaf473940>"
            ]
          },
          "metadata": {
            "tags": []
          }
        }
      ]
    },
    {
      "metadata": {
        "id": "tVZsLBqo0Dfo",
        "colab_type": "text"
      },
      "cell_type": "markdown",
      "source": [
        "**This required 410.319s and yielded 46% accuracy**"
      ]
    },
    {
      "metadata": {
        "id": "glCi8uYvvxdy",
        "colab_type": "text"
      },
      "cell_type": "markdown",
      "source": [
        "## Comments\n",
        "\n",
        "As expected the accuracy when we applied BN would increase. We doubled the neurons on the output of FC1 but the computation time only increased 70s without that much increase in the accuracy. \n",
        "\n",
        "Meanwhile when we appied BN with dropout of 0.5, it was able to reach more accuracy with less computational time. This was expected.\n",
        "\n",
        "\n",
        "We could say that inorder to increase the accuracy of a CNN, BN should be done. DropOut has helped increase the accuracy slightly. As a regualization technique, it could have solve some overfitting problem in our model. Playing with the values could help us achieve better accuracy.\n",
        "\n",
        "Also when increasing the size of FC1 the oscillations on the accuracy at stability decreased. That was also evident in the case of dropout. "
      ]
    },
    {
      "metadata": {
        "id": "fyGaPkPI091A",
        "colab_type": "text"
      },
      "cell_type": "markdown",
      "source": [
        "# Data Augmentation"
      ]
    },
    {
      "metadata": {
        "id": "7-q7mrll1SBs",
        "colab_type": "text"
      },
      "cell_type": "markdown",
      "source": [
        "We update our net to the required network to the basic 128/128/128/256 without batch normalization and dropout:"
      ]
    },
    {
      "metadata": {
        "colab_type": "code",
        "id": "73OVrTyS1cdE",
        "colab": {}
      },
      "cell_type": "code",
      "source": [
        "net = CNN(128,128,128,256,4096,BN=False,DO=False)"
      ],
      "execution_count": 0,
      "outputs": []
    },
    {
      "metadata": {
        "id": "3zJYAoTn1Ko7",
        "colab_type": "text"
      },
      "cell_type": "markdown",
      "source": [
        "## Random Horizontal Flip\n",
        "\n",
        "We change the data sets to include horizontal flips"
      ]
    },
    {
      "metadata": {
        "id": "77TpMjO917xo",
        "colab_type": "code",
        "colab": {}
      },
      "cell_type": "code",
      "source": [
        "#transform are heavily used to do simple and complex transformation and data augmentation\n",
        "transform_train = transforms.Compose(\n",
        "    [\n",
        "     transforms.RandomHorizontalFlip(),\n",
        "     transforms.Resize((32,32)),\n",
        "     transforms.ToTensor(),\n",
        "     transforms.Normalize((0.5, 0.5, 0.5), (0.5, 0.5, 0.5)),\n",
        "    ])\n",
        "\n",
        "transform_test = transforms.Compose(\n",
        "    [\n",
        "     transforms.Resize((32,32)),\n",
        "     transforms.ToTensor(),\n",
        "     transforms.Normalize((0.5, 0.5, 0.5), (0.5, 0.5, 0.5)),\n",
        "     ])\n",
        "\n",
        "trainset = torchvision.datasets.CIFAR100(root='./data', train=True,\n",
        "                                        download=True, transform=transform_train)\n",
        "trainloader = torch.utils.data.DataLoader(trainset, batch_size=256,\n",
        "                                          shuffle=True, num_workers=4,drop_last=True)\n",
        "\n",
        "testset = torchvision.datasets.CIFAR100(root='./data', train=False,\n",
        "                                       download=True, transform=transform_test)\n",
        "testloader = torch.utils.data.DataLoader(testset, batch_size=256,\n",
        "                                         shuffle=False, num_workers=4,drop_last=True)\n",
        "\n",
        "dataiter = iter(trainloader)"
      ],
      "execution_count": 0,
      "outputs": []
    },
    {
      "metadata": {
        "id": "_CEWP1mq3Hiz",
        "colab_type": "text"
      },
      "cell_type": "markdown",
      "source": [
        "We then train the net and we plot the loss curve:"
      ]
    },
    {
      "metadata": {
        "colab_type": "code",
        "outputId": "fa83af6a-c122-4463-99a8-d15bef5f28a6",
        "id": "B1T-VIjn3Dod",
        "colab": {
          "base_uri": "https://localhost:8080/",
          "height": 282
        }
      },
      "cell_type": "code",
      "source": [
        "plt.plot(range(1,len(lossPlot)+1),lossPlot)\n",
        "plt.show"
      ],
      "execution_count": 0,
      "outputs": [
        {
          "output_type": "execute_result",
          "data": {
            "text/plain": [
              "<function matplotlib.pyplot.show>"
            ]
          },
          "metadata": {
            "tags": []
          },
          "execution_count": 70
        },
        {
          "output_type": "display_data",
          "data": {
            "image/png": "[encoded data removed]",
            "text/plain": [
              "<matplotlib.figure.Figure at 0x7efd01b5e908>"
            ]
          },
          "metadata": {
            "tags": []
          }
        }
      ]
    },
    {
      "metadata": {
        "colab_type": "text",
        "id": "TFrKDzGU3Doh"
      },
      "cell_type": "markdown",
      "source": [
        "And the accuracy curve"
      ]
    },
    {
      "metadata": {
        "colab_type": "code",
        "outputId": "f98f9391-b58a-40e4-adab-9d6ab51a5bb7",
        "id": "jh3yFVWL3Doj",
        "colab": {
          "base_uri": "https://localhost:8080/",
          "height": 282
        }
      },
      "cell_type": "code",
      "source": [
        "plt.plot(range(1,len(accPlot)+1),accPlot)\n",
        "plt.show"
      ],
      "execution_count": 0,
      "outputs": [
        {
          "output_type": "execute_result",
          "data": {
            "text/plain": [
              "<function matplotlib.pyplot.show>"
            ]
          },
          "metadata": {
            "tags": []
          },
          "execution_count": 71
        },
        {
          "output_type": "display_data",
          "data": {
            "image/png": "[encoded data removed]",
            "text/plain": [
              "<matplotlib.figure.Figure at 0x7efcc4844080>"
            ]
          },
          "metadata": {
            "tags": []
          }
        }
      ]
    },
    {
      "metadata": {
        "id": "Y_1BwFSP41XK",
        "colab_type": "text"
      },
      "cell_type": "markdown",
      "source": [
        "**It took 395.366s and gave an accuracy of around 37%** (almost a 9% increase)"
      ]
    },
    {
      "metadata": {
        "colab_type": "text",
        "id": "ntFvN1wk493X"
      },
      "cell_type": "markdown",
      "source": [
        "## Random Crops\n",
        "\n",
        "We change the data sets now to include both horizontal flips and random crops"
      ]
    },
    {
      "metadata": {
        "colab_type": "code",
        "id": "4KriNrla493Y",
        "colab": {}
      },
      "cell_type": "code",
      "source": [
        "#transform are heavily used to do simple and complex transformation and data augmentation\n",
        "transform_train = transforms.Compose(\n",
        "    [\n",
        "     transforms.RandomHorizontalFlip(),\n",
        "     transforms.Resize((40,40)),\n",
        "     transforms.RandomCrop((32,32)),\n",
        "     transforms.ToTensor(),\n",
        "     transforms.Normalize((0.5, 0.5, 0.5), (0.5, 0.5, 0.5)),\n",
        "    ])\n",
        "\n",
        "transform_test = transforms.Compose(\n",
        "    [\n",
        "     transforms.Resize((32,32)),\n",
        "     transforms.ToTensor(),\n",
        "     transforms.Normalize((0.5, 0.5, 0.5), (0.5, 0.5, 0.5)),\n",
        "     ])\n",
        "\n",
        "trainset = torchvision.datasets.CIFAR100(root='./data', train=True,\n",
        "                                        download=True, transform=transform_train)\n",
        "trainloader = torch.utils.data.DataLoader(trainset, batch_size=256,\n",
        "                                          shuffle=True, num_workers=4,drop_last=True)\n",
        "\n",
        "testset = torchvision.datasets.CIFAR100(root='./data', train=False,\n",
        "                                       download=True, transform=transform_test)\n",
        "testloader = torch.utils.data.DataLoader(testset, batch_size=256,\n",
        "                                         shuffle=False, num_workers=4,drop_last=True)\n",
        "\n",
        "dataiter = iter(trainloader)"
      ],
      "execution_count": 0,
      "outputs": []
    },
    {
      "metadata": {
        "colab_type": "text",
        "id": "5QWDAYJ0493d"
      },
      "cell_type": "markdown",
      "source": [
        "We then train the net and we plot the loss curve:"
      ]
    },
    {
      "metadata": {
        "colab_type": "code",
        "outputId": "799cf89e-76f3-4d72-f798-30a47593d346",
        "id": "JhN2qQK8493e",
        "colab": {
          "base_uri": "https://localhost:8080/",
          "height": 282
        }
      },
      "cell_type": "code",
      "source": [
        "plt.plot(range(1,len(lossPlot)+1),lossPlot)\n",
        "plt.show"
      ],
      "execution_count": 0,
      "outputs": [
        {
          "output_type": "execute_result",
          "data": {
            "text/plain": [
              "<function matplotlib.pyplot.show>"
            ]
          },
          "metadata": {
            "tags": []
          },
          "execution_count": 75
        },
        {
          "output_type": "display_data",
          "data": {
            "image/png": "[encoded data removed]",
            "text/plain": [
              "<matplotlib.figure.Figure at 0x7efcafffbc50>"
            ]
          },
          "metadata": {
            "tags": []
          }
        }
      ]
    },
    {
      "metadata": {
        "colab_type": "text",
        "id": "aY_rpMkE493i"
      },
      "cell_type": "markdown",
      "source": [
        "And the accuracy curve"
      ]
    },
    {
      "metadata": {
        "colab_type": "code",
        "outputId": "16f76365-975c-4b8c-a466-e43fc0ad803c",
        "id": "DeKDmVLy493i",
        "colab": {
          "base_uri": "https://localhost:8080/",
          "height": 282
        }
      },
      "cell_type": "code",
      "source": [
        "plt.plot(range(1,len(accPlot)+1),accPlot)\n",
        "plt.show"
      ],
      "execution_count": 0,
      "outputs": [
        {
          "output_type": "execute_result",
          "data": {
            "text/plain": [
              "<function matplotlib.pyplot.show>"
            ]
          },
          "metadata": {
            "tags": []
          },
          "execution_count": 76
        },
        {
          "output_type": "display_data",
          "data": {
            "image/png": "[encoded data removed]",
            "text/plain": [
              "<matplotlib.figure.Figure at 0x7efcc4417fd0>"
            ]
          },
          "metadata": {
            "tags": []
          }
        }
      ]
    },
    {
      "metadata": {
        "colab_type": "text",
        "id": "w_hSBbWm493m"
      },
      "cell_type": "markdown",
      "source": [
        "**It took 419.092s and gave an accuracy of around 35%**. Here it is somewhat easier to learn features since there were cropped images."
      ]
    },
    {
      "metadata": {
        "id": "vNxUrsvQ7mSN",
        "colab_type": "text"
      },
      "cell_type": "markdown",
      "source": [
        "## Comments\n",
        "\n",
        "Applying these data augmentation methods have increased our accuracy around 7%, and also the accuracy rate at the beginning (33% accuracy from first epoch when both flips and crops are applied). This method along with Batch normalization and drop could help increase the accuracy of our network"
      ]
    },
    {
      "metadata": {
        "id": "MzWMvON29m1x",
        "colab_type": "text"
      },
      "cell_type": "markdown",
      "source": [
        "# Residual Neural Network"
      ]
    },
    {
      "metadata": {
        "id": "yGOXPX6j-QKX",
        "colab_type": "text"
      },
      "cell_type": "markdown",
      "source": [
        "We are required to use ResNet18 with the following parameters:\n",
        "\n",
        "128 batch size, 10 epochs, 224x224 resolution,\n",
        "Adam solver with learning rate 0.0001\n",
        "\n",
        "\n",
        "We will also use data augmentation (Horizontal flips since they gave best accuracy. And since we would loss resolution from resizing 32x32 to 224x224, cropping would probably make feature extraction different). We update our dataset:\n"
      ]
    },
    {
      "metadata": {
        "id": "YEKkEr07-pfL",
        "colab_type": "code",
        "colab": {}
      },
      "cell_type": "code",
      "source": [
        "#transform are heavily used to do simple and complex transformation and data augmentation\n",
        "transform_train = transforms.Compose(\n",
        "    [\n",
        "     transforms.RandomHorizontalFlip(),\n",
        "     transforms.Resize((224,224)),\n",
        "     #transforms.RandomCrop((224,224)),\n",
        "     transforms.ToTensor(),\n",
        "     transforms.Normalize((0.5, 0.5, 0.5), (0.5, 0.5, 0.5)),\n",
        "    ])\n",
        "\n",
        "transform_test = transforms.Compose(\n",
        "    [\n",
        "     transforms.Resize((224,224)),\n",
        "     transforms.ToTensor(),\n",
        "     transforms.Normalize((0.5, 0.5, 0.5), (0.5, 0.5, 0.5)),\n",
        "     ])\n",
        "\n",
        "trainset = torchvision.datasets.CIFAR100(root='./data', train=True,\n",
        "                                        download=True, transform=transform_train)\n",
        "trainloader = torch.utils.data.DataLoader(trainset, batch_size=128,\n",
        "                                          shuffle=True, num_workers=4,drop_last=True)\n",
        "\n",
        "testset = torchvision.datasets.CIFAR100(root='./data', train=False,\n",
        "                                       download=True, transform=transform_test)\n",
        "testloader = torch.utils.data.DataLoader(testset, batch_size=128,\n",
        "                                         shuffle=False, num_workers=4,drop_last=True)\n",
        "\n",
        "dataiter = iter(trainloader)"
      ],
      "execution_count": 0,
      "outputs": []
    },
    {
      "metadata": {
        "id": "C4ct-Hso-3fA",
        "colab_type": "text"
      },
      "cell_type": "markdown",
      "source": [
        "And import the ResNet"
      ]
    },
    {
      "metadata": {
        "id": "ZxFv77a6-55g",
        "colab_type": "code",
        "colab": {}
      },
      "cell_type": "code",
      "source": [
        "net = models.resnet18(pretrained=True)\n",
        "net.fc = nn.Linear(512, n_classes) #changing the fully connected layer of the already allocated network"
      ],
      "execution_count": 0,
      "outputs": []
    },
    {
      "metadata": {
        "id": "EDmuSTKWAamT",
        "colab_type": "text"
      },
      "cell_type": "markdown",
      "source": [
        "We train using the updated parameters"
      ]
    },
    {
      "metadata": {
        "id": "QlPYyqU-AZeX",
        "colab_type": "code",
        "colab": {}
      },
      "cell_type": "code",
      "source": [
        "net = net.cuda()\n",
        "\n",
        "criterion = nn.CrossEntropyLoss().cuda() #it already does softmax computation for use!\n",
        "optimizer = optim.Adam(net.parameters(), lr=0.0001) #better convergency w.r.t simple SGD :)\n",
        "\n",
        "\n",
        "########TRAINING PHASE###########\n",
        "n_loss_print = len(trainloader)  #print every epoch, use smaller numbers if you wanna print loss more often!\n",
        "\n",
        "n_epochs = 10\n",
        "\n",
        "lossPlot=[]\n",
        "accPlot=[]\n",
        "\n",
        "for epoch in range(n_epochs):  # loop over the dataset multiple times\n",
        "    net.train() #important for activating dropout and correctly train batchnorm\n",
        "    running_loss = 0.0\n",
        "    for i, data in enumerate(trainloader, 0):\n",
        "        # get the inputs and cast them into cuda wrapper\n",
        "        inputs, labels = data\n",
        "        inputs = inputs.cuda()\n",
        "        labels = labels.cuda()\n",
        "        # zero the parameter gradients\n",
        "        optimizer.zero_grad()\n",
        "\n",
        "        # forward + backward + optimize\n",
        "        outputs = net(inputs)\n",
        "        loss = criterion(outputs, labels)\n",
        "        loss.backward()\n",
        "        optimizer.step()\n",
        "\n",
        "        # print statistics\n",
        "        running_loss += loss.item()\n",
        "        if i % n_loss_print == (n_loss_print -1):    \n",
        "            temp=running_loss / n_loss_print\n",
        "            print('[%d, %5d] loss: %.3f' %\n",
        "                  (epoch + 1, i + 1, temp))\n",
        "            lossPlot.append(temp)\n",
        "            running_loss = 0.0\n",
        "    accPlot.append(test_accuracy(net,testloader))\n",
        "      \n",
        "print('Finished Training')\n"
      ],
      "execution_count": 0,
      "outputs": []
    },
    {
      "metadata": {
        "id": "NiHVVERAHkT0",
        "colab_type": "text"
      },
      "cell_type": "markdown",
      "source": [
        "We plot the Loss curve"
      ]
    },
    {
      "metadata": {
        "id": "WvFzecCiHsVa",
        "colab_type": "code",
        "outputId": "89cce6d9-5a46-41da-b317-2adb7412c6ec",
        "colab": {
          "base_uri": "https://localhost:8080/",
          "height": 270
        }
      },
      "cell_type": "code",
      "source": [
        "plt.plot(range(1,len(lossPlot)+1),lossPlot)\n",
        "plt.show()"
      ],
      "execution_count": 0,
      "outputs": [
        {
          "output_type": "display_data",
          "data": {
            "image/png": "[encoded data removed]",
            "text/plain": [
              "<matplotlib.figure.Figure at 0x7fa518d8d6d8>"
            ]
          },
          "metadata": {
            "tags": []
          }
        }
      ]
    },
    {
      "metadata": {
        "id": "xOgtwSLEH1A7",
        "colab_type": "text"
      },
      "cell_type": "markdown",
      "source": [
        "and the accuracy"
      ]
    },
    {
      "metadata": {
        "id": "potzn1UBH3w7",
        "colab_type": "code",
        "outputId": "9b3c4468-98b2-4b9e-84fb-fc06b760d5c8",
        "colab": {
          "base_uri": "https://localhost:8080/",
          "height": 265
        }
      },
      "cell_type": "code",
      "source": [
        "plt.plot(range(1,len(accPlot)+1),accPlot)\n",
        "plt.show()"
      ],
      "execution_count": 0,
      "outputs": [
        {
          "output_type": "display_data",
          "data": {
            "image/png": "[encoded data removed]",
            "text/plain": [
              "<matplotlib.figure.Figure at 0x7fa518a8db38>"
            ]
          },
          "metadata": {
            "tags": []
          }
        }
      ]
    },
    {
      "metadata": {
        "id": "CHDschW984bu",
        "colab_type": "text"
      },
      "cell_type": "markdown",
      "source": [
        "**The accuracy is around 80% and it took 699.921s **"
      ]
    },
    {
      "metadata": {
        "id": "DUKqLKFq82dy",
        "colab_type": "text"
      },
      "cell_type": "markdown",
      "source": [
        "## Comments\n",
        "\n",
        "The ResNet18 provides the best accuracy. This network being pretrained for imagenet, and fined tuned for our dataset acts behaves good. Using transfer learning in training networks is a good strategy that saves us time on deep networks and could substantially provide better results. "
      ]
    },
    {
      "metadata": {
        "id": "2Z4apWiDCI2J",
        "colab_type": "text"
      },
      "cell_type": "markdown",
      "source": [
        "# Others\n",
        "\n",
        "The folowing code has been used to save the models with best accuracy"
      ]
    },
    {
      "metadata": {
        "id": "U6keSuEq-mYH",
        "colab_type": "code",
        "colab": {}
      },
      "cell_type": "code",
      "source": [
        "#To save the file\n",
        "txt=open(\"network.pt\",\"wb\")\n",
        "torch.save(net.state_dict(), txt)\n",
        "txt.close()"
      ],
      "execution_count": 0,
      "outputs": []
    },
    {
      "metadata": {
        "id": "HOMNxtot_0G3",
        "colab_type": "code",
        "colab": {}
      },
      "cell_type": "code",
      "source": [
        "#To download the file\n",
        "from google.colab import files\n",
        "files.download(\"resnet.h5\")"
      ],
      "execution_count": 0,
      "outputs": []
    }
  ]
}